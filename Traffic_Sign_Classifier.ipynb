{
 "cells": [
  {
   "cell_type": "markdown",
   "metadata": {},
   "source": [
    "# Self-Driving Car Engineer Nanodegree\n",
    "\n",
    "## Deep Learning\n",
    "\n",
    "## Project: Build a Traffic Sign Recognition Classifier\n",
    "\n",
    "In this notebook, a template is provided for you to implement your functionality in stages, which is required to successfully complete this project. If additional code is required that cannot be included in the notebook, be sure that the Python code is successfully imported and included in your submission if necessary. \n",
    "\n",
    "> **Note**: Once you have completed all of the code implementations, you need to finalize your work by exporting the iPython Notebook as an HTML document. Before exporting the notebook to html, all of the code cells need to have been run so that reviewers can see the final implementation and output. You can then export the notebook by using the menu above and navigating to  \\n\",\n",
    "    \"**File -> Download as -> HTML (.html)**. Include the finished document along with this notebook as your submission. \n",
    "\n",
    "In addition to implementing code, there is a writeup to complete. The writeup should be completed in a separate file, which can be either a markdown file or a pdf document. There is a [write up template](https://github.com/udacity/CarND-Traffic-Sign-Classifier-Project/blob/master/writeup_template.md) that can be used to guide the writing process. Completing the code template and writeup template will cover all of the [rubric points](https://review.udacity.com/#!/rubrics/481/view) for this project.\n",
    "\n",
    "The [rubric](https://review.udacity.com/#!/rubrics/481/view) contains \"Stand Out Suggestions\" for enhancing the project beyond the minimum requirements. The stand out suggestions are optional. If you decide to pursue the \"stand out suggestions\", you can include the code in this Ipython notebook and also discuss the results in the writeup file.\n",
    "\n",
    "\n",
    ">**Note:** Code and Markdown cells can be executed using the **Shift + Enter** keyboard shortcut. In addition, Markdown cells can be edited by typically double-clicking the cell to enter edit mode."
   ]
  },
  {
   "cell_type": "markdown",
   "metadata": {},
   "source": [
    "---\n",
    "## Step 0: Import required packages"
   ]
  },
  {
   "cell_type": "code",
   "execution_count": 1,
   "metadata": {
    "collapsed": true
   },
   "outputs": [],
   "source": [
    "## LIST OF ALL IMPORTS\n",
    "\n",
    "import csv\n",
    "import math\n",
    "import random\n",
    "import time\n",
    "import os.path as path\n",
    "from datetime import datetime\n",
    "\n",
    "import pickle\n",
    "import numpy as np\n",
    "import pandas as pd\n",
    "import matplotlib.pyplot as plt\n",
    "import matplotlib.gridspec as gridspec\n",
    "import cv2\n",
    "\n",
    "import tensorflow as tf\n",
    "# from sklearn.decomposition import PCA\n",
    "from sklearn.utils import shuffle\n",
    "\n",
    "from tensorflow.contrib.layers import flatten\n",
    "\n",
    "# Visualizations will be shown in the notebook.\n",
    "%matplotlib inline \n",
    "\n",
    "repeat=0"
   ]
  },
  {
   "cell_type": "markdown",
   "metadata": {},
   "source": [
    "---\n",
    "## Step 1: Load Datasets"
   ]
  },
  {
   "cell_type": "code",
   "execution_count": 2,
   "metadata": {},
   "outputs": [
    {
     "name": "stdout",
     "output_type": "stream",
     "text": [
      "Obtaining datasets.\n",
      "Ensuring equal lengths for features and labels.\n",
      "All datasets loaded.\n"
     ]
    }
   ],
   "source": [
    "## LOAD PICKLED DATASET & SPLIT DATA\n",
    "\n",
    "t0=time.clock() # Obtain run-times.\n",
    "print(\"Obtaining datasets.\")\n",
    "# Training, Validation, and Testing data.\n",
    "training_file='traffic-signs-data/train.p' \n",
    "validation_file='traffic-signs-data/valid.p'\n",
    "testing_file='traffic-signs-data/test.p'\n",
    "augment_file='traffic-signs-data/augmented_train.p'\n",
    "\n",
    "with open(training_file, mode='rb') as f:\n",
    "    train = pickle.load(f)\n",
    "with open(validation_file, mode='rb') as f:\n",
    "    valid = pickle.load(f)\n",
    "with open(testing_file, mode='rb') as f:\n",
    "    test = pickle.load(f)\n",
    "    \n",
    "X_train, y_train = train['features'], train['labels']\n",
    "X_valid, y_valid = valid['features'], valid['labels']\n",
    "X_test, y_test = test['features'], test['labels']\n",
    "\n",
    "\n",
    "print(\"Ensuring equal lengths for features and labels.\")\n",
    "assert(len(X_train)==len(y_train))\n",
    "assert(len(X_valid)==len(y_valid))\n",
    "assert(len(X_test)==len(y_test))\n",
    "\n",
    "# Dataset labels in the German traffic sign dataset.\n",
    "label_legend='signnames.csv'\n",
    "arr_classes=pd.read_csv(label_legend,index_col=None).values\n",
    "arr_classes=arr_classes[:,1]\n",
    "print(\"All datasets loaded.\")"
   ]
  },
  {
   "cell_type": "markdown",
   "metadata": {},
   "source": [
    "---\n",
    "\n",
    "## Step 2: Dataset Summary & Exploration\n",
    "\n",
    "The pickled data is a dictionary with 4 key/value pairs:\n",
    "\n",
    "- `'features'` is a 4D array containing raw pixel data of the traffic sign images, (num examples, width, height, channels).\n",
    "- `'labels'` is a 1D array containing the label/class id of the traffic sign. The file `signnames.csv` contains id -> name mappings for each id.\n",
    "- `'sizes'` is a list containing tuples, (width, height) representing the original width and height the image.\n",
    "- `'coords'` is a list containing tuples, (x1, y1, x2, y2) representing coordinates of a bounding box around the sign in the image. **THESE COORDINATES ASSUME THE ORIGINAL IMAGE. THE PICKLED DATA CONTAINS RESIZED VERSIONS (32 by 32) OF THESE IMAGES**\n",
    "\n",
    "Complete the basic data summary below. Use python, numpy and/or pandas methods to calculate the data summary rather than hard coding the results. For example, the [pandas shape method](http://pandas.pydata.org/pandas-docs/stable/generated/pandas.DataFrame.shape.html) might be useful for calculating some of the summary results. "
   ]
  },
  {
   "cell_type": "markdown",
   "metadata": {},
   "source": [
    "### Basic Summary of the Data Set Using Python, Numpy and/or Pandas"
   ]
  },
  {
   "cell_type": "code",
   "execution_count": 3,
   "metadata": {},
   "outputs": [
    {
     "name": "stdout",
     "output_type": "stream",
     "text": [
      "Class indices [ 9960  2220 31439  5370  6810 12360 21450 23730 15870 11040 17130  8580\n",
      " 27329 21810 29219 29909  5010 30449 20370  6630 25950 25680  4500  1770\n",
      " 10800 33449  1230 10350 26849 10560 25020   210 10140 26250 20010 18930\n",
      "   900  4830 14010 25410  4200     0  9750]\n",
      "Class counts [ 180 1980 2010 1260 1770 1650  360 1290 1260 1320 1800 1170 1890 1920  690\n",
      "  540  360  990 1080  180  300  270  330  450  240 1350  540  210  480  240\n",
      "  390  690  210  599  360 1080  330  180 1860  270  300  210  210]\n",
      "Number of training examples = 34799\n",
      "Number of validation examples = 4410\n",
      "Number of testing examples = 12630\n",
      "There are 51839 datasets, split 0.67 - 0.09 - 0.24 training, validation, and testing respectively.\n",
      "Image data shape = (32, 32, 3)\n",
      "Number of classes = 43\n"
     ]
    }
   ],
   "source": [
    "## BASIC UNDERSTANDING OF DATASET\n",
    "\n",
    "# Number of training examples.\n",
    "n_train = X_train.shape[0]\n",
    "\n",
    "# Number of validation examples.\n",
    "n_validation = X_valid.shape[0]\n",
    "\n",
    "# Number of testing examples.\n",
    "n_test = X_test.shape[0]\n",
    "\n",
    "# Shape of an traffic sign image.\n",
    "image_shape = X_train[1].shape\n",
    "\n",
    "# Unique classes/labels in the dataset.\n",
    "n_classes = len(np.unique(y_train))\n",
    "\n",
    "# Further manipulation.\n",
    "total_sets=n_train+n_validation+n_test\n",
    "frac_train=n_train/total_sets\n",
    "frac_valid=n_validation/total_sets\n",
    "frac_test=n_test/total_sets\n",
    "\n",
    "class_list,class_indices,class_counts=np.unique(y_train, return_index=True, return_counts=True)\n",
    "\n",
    "print(\"Class indices\", class_indices)\n",
    "print(\"Class counts\", class_counts)\n",
    "\n",
    "\n",
    "print(\"Number of training examples =\", n_train)\n",
    "print(\"Number of validation examples =\", n_validation)\n",
    "print(\"Number of testing examples =\", n_test)\n",
    "print(\"There are\",total_sets, \"datasets, split\",round(frac_train,2),\"-\",\\\n",
    "      round(frac_valid,2),\"-\",round(frac_test,2),\"training, validation, and testing respectively.\")\n",
    "print(\"Image data shape =\", image_shape)\n",
    "print(\"Number of classes =\", n_classes)"
   ]
  },
  {
   "cell_type": "markdown",
   "metadata": {},
   "source": [
    "### Exploratory visualization of the dataset"
   ]
  },
  {
   "cell_type": "markdown",
   "metadata": {},
   "source": [
    "Visualize the German Traffic Signs Dataset using the pickled file(s). This is open ended, suggestions include: plotting traffic sign images, plotting the count of each sign, etc. \n",
    "\n",
    "The [Matplotlib](http://matplotlib.org/) [examples](http://matplotlib.org/examples/index.html) and [gallery](http://matplotlib.org/gallery.html) pages are a great resource for doing visualizations in Python.\n",
    "\n",
    "**NOTE:** It's recommended you start with something simple first. If you wish to do more, come back to it after you've completed the rest of the sections. It can be interesting to look at the distribution of classes in the training, validation and test set. Is the distribution the same? Are there more examples of some classes than others?"
   ]
  },
  {
   "cell_type": "markdown",
   "metadata": {},
   "source": [
    "#### Visualizing sample training set images"
   ]
  },
  {
   "cell_type": "raw",
   "metadata": {},
   "source": [
    "## DATA EXPLORATION & VISUALIZATION\n",
    "\n",
    "# Plot traffic sign images.\n",
    "for Class,Index,Counts in zip(class_list,class_indices,class_counts):\n",
    "    print(\"Class {} {} : {} samples.\".format(Class,arr_classes[Class],Counts))\n",
    "    Main=plt.figure(figsize=(10,5))\n",
    "    choice=random.sample(range(Index,Counts+Index),10)\n",
    "    for i in range (0,10):\n",
    "        row=Main.add_subplot(1,10,i+1,xticks=[],yticks=[])\n",
    "        row.imshow(X_train[choice[i]])\n",
    "    plt.show()"
   ]
  },
  {
   "cell_type": "markdown",
   "metadata": {},
   "source": [
    "#### Training and Testing set representations"
   ]
  },
  {
   "cell_type": "raw",
   "metadata": {},
   "source": [
    "## DATA EXPLORATION & VISUALIZATION\n",
    "\n",
    "# Histogram plot to identify count of each class.\n",
    "hist_ytrain_count=np.bincount(y_train)\n",
    "hist_xtrain_count=len(hist_ytrain_count)\n",
    "\n",
    "plt.figure(figsize=(12,5))\n",
    "plt.hist(y_train, hist_xtrain_count, normed=False, facecolor='green',align='mid',rwidth=0.8,alpha=0.75,label='Training set')\n",
    "plt.hist(y_valid,hist_xtrain_count, normed=False, facecolor='blue',align='mid',rwidth=0.8, alpha=0.75, label='Validation set')\n",
    "plt.legend(loc='upper right')\n",
    "plt.xlabel('Class Label')\n",
    "plt.ylabel('Count')\n",
    "plt.title(r'Distribution of training and validation dataset images for each class')\n",
    "plt.axis([0, 43,0,2500])\n",
    "plt.grid(True)\n",
    "plt.tight_layout()\n",
    "plt.show()\n",
    "\n",
    "plt.figure(figsize=(12,5))\n",
    "plt.hist(y_train, hist_xtrain_count, normed=False, facecolor='green',align='mid',rwidth=0.8,alpha=0.75,label='Training set')\n",
    "plt.hist(y_test,hist_xtrain_count, normed=False, facecolor='black',align='mid',rwidth=0.8, alpha=0.75, label='Testing set')\n",
    "plt.legend(loc='upper right')\n",
    "plt.xlabel('Class Label')\n",
    "plt.ylabel('Count')\n",
    "plt.title(r'Distribution of training and testing dataset images for each class')\n",
    "plt.axis([0, 43,0,2500])\n",
    "plt.grid(True)\n",
    "plt.tight_layout()\n",
    "plt.show()"
   ]
  },
  {
   "cell_type": "markdown",
   "metadata": {},
   "source": [
    "----\n",
    "\n",
    "## Step 3: Design and Test a Model Architecture\n",
    "\n",
    "Design and implement a deep learning model that learns to recognize traffic signs. Train and test your model on the [German Traffic Sign Dataset](http://benchmark.ini.rub.de/?section=gtsrb&subsection=dataset).\n",
    "\n",
    "The LeNet-5 implementation shown in the [classroom](https://classroom.udacity.com/nanodegrees/nd013/parts/fbf77062-5703-404e-b60c-95b78b2f3f9e/modules/6df7ae49-c61c-4bb2-a23e-6527e69209ec/lessons/601ae704-1035-4287-8b11-e2c2716217ad/concepts/d4aca031-508f-4e0b-b493-e7b706120f81) at the end of the CNN lesson is a solid starting point. You'll have to change the number of classes and possibly the preprocessing, but aside from that it's plug and play! \n",
    "\n",
    "With the LeNet-5 solution from the lecture, you should expect a validation set accuracy of about 0.89. To meet specifications, the validation set accuracy will need to be at least 0.93. It is possible to get an even higher accuracy, but 0.93 is the minimum for a successful project submission. \n",
    "\n",
    "There are various aspects to consider when thinking about this problem:\n",
    "\n",
    "- Neural network architecture (is the network over or underfitting?)\n",
    "- Play around preprocessing techniques (normalization, rgb to grayscale, etc)\n",
    "- Number of examples per label (some have more than others).\n",
    "- Generate fake data.\n",
    "\n",
    "Here is an example of a [published baseline model on this problem](http://yann.lecun.com/exdb/publis/pdf/sermanet-ijcnn-11.pdf). It's not required to be familiar with the approach used in the paper but, it's good practice to try to read papers like these."
   ]
  },
  {
   "cell_type": "markdown",
   "metadata": {},
   "source": [
    "### Augment the Dataset"
   ]
  },
  {
   "cell_type": "code",
   "execution_count": 4,
   "metadata": {},
   "outputs": [
    {
     "name": "stdout",
     "output_type": "stream",
     "text": [
      "This step tries to smooth out possible wrong classifications and bias due to varying class lengths as the maximum class size is 2010 and the minimum is 180.\n"
     ]
    }
   ],
   "source": [
    "max_bincount=max(class_counts)\n",
    "min_bincount=min(class_counts)\n",
    "print(\"This step tries to smooth out possible wrong classifications and bias due to varying class lengths as the maximum class size is {} and the minimum is {}.\".format(max_bincount,min_bincount))"
   ]
  },
  {
   "cell_type": "markdown",
   "metadata": {},
   "source": [
    "### Preprocess the Dataset"
   ]
  },
  {
   "cell_type": "markdown",
   "metadata": {},
   "source": [
    "The dataset is preprocessed by gray-scale conversion followed by normalizing to have zero mean and equal variance:'(pixel - 128)/ 128', then shuffling the datasets.\n"
   ]
  },
  {
   "cell_type": "code",
   "execution_count": 5,
   "metadata": {
    "collapsed": true
   },
   "outputs": [],
   "source": [
    "## DATA PRE-PROCESS FUNCTIONS\n",
    "if (path.exists(augment_file) and repeat==0):\n",
    "    pass\n",
    "else:\n",
    "    def grayscale(raw_image): # Convert to grayscale\n",
    "        return cv2.cvtColor(raw_image,cv2.COLOR_BGR2GRAY)\n",
    "\n",
    "    def normalize(raw_image): # Min-Max normalization\n",
    "        min_pixel=np.min(raw_image)\n",
    "        max_pixel=np.max(raw_image)\n",
    "        return ((raw_image-min_pixel)/(max_pixel-min_pixel))\n",
    "    \n",
    "    def equalize(raw_image): # Adaptive Histogram equalization\n",
    "        clahe=cv2.createCLAHE()\n",
    "        return clahe.apply(raw_image)\n",
    "\n",
    "    def randomize(dataset,labels):\n",
    "        permutation=np.random.permutation(labels.shape[0])\n",
    "        shuffled_dataset=dataset[permutation,:,:]\n",
    "        shuffled_labels=labels[permutation,:,:]\n",
    "        return (shuffled_dataset,shuffled_labels)    "
   ]
  },
  {
   "cell_type": "code",
   "execution_count": 6,
   "metadata": {},
   "outputs": [
    {
     "name": "stdout",
     "output_type": "stream",
     "text": [
      "Preprocessing started.\n",
      "Preprocessing: Grayscaling, Histogram Equalization, and Normalizing complete.\n"
     ]
    }
   ],
   "source": [
    "if (path.exists(augment_file) and repeat==0):\n",
    "    pass\n",
    "else:\n",
    "    print(\"Preprocessing started.\")\n",
    "\n",
    "    X_train_normalized=[]\n",
    "    X_valid_grayscale=[]\n",
    "    X_test_grayscale=[]\n",
    "    for image in X_train:\n",
    "        train_image_grayscale=equalize(grayscale(image))\n",
    "        X_train_normalized.append(normalize(train_image_grayscale))\n",
    "    for image in X_valid:\n",
    "        valid_image_grayscale=equalize(grayscale(image))\n",
    "        X_valid_grayscale.append(normalize(valid_image_grayscale))\n",
    "    for image in X_test:\n",
    "        test_image_grayscale=equalize(grayscale(image))\n",
    "        X_test_grayscale.append(normalize(test_image_grayscale))\n",
    "    print(\"Preprocessing: Grayscaling, Histogram Equalization, and Normalizing complete.\")"
   ]
  },
  {
   "cell_type": "markdown",
   "metadata": {},
   "source": [
    "### Augment the Dataset"
   ]
  },
  {
   "cell_type": "markdown",
   "metadata": {},
   "source": [
    "Increasing class sizes and images for each class in the training set by various image manipulations. Also aims to obtain a balanced representation of classes."
   ]
  },
  {
   "cell_type": "code",
   "execution_count": 7,
   "metadata": {
    "collapsed": true
   },
   "outputs": [],
   "source": [
    "## IMAGE MANIPULATION FUNCTIONS\n",
    "if (path.exists(augment_file) and repeat==0):\n",
    "    pass\n",
    "else:\n",
    "    def rotation(raw_image,angle_range):\n",
    "        theta_rot=np.random.uniform(angle_range)-0.5*angle_range\n",
    "        rows,cols=raw_image.shape\n",
    "        rot_M=cv2.getRotationMatrix2D((cols/2,rows/2),theta_rot,1)\n",
    "        return cv2.warpAffine(raw_image,rot_M,(cols,rows))\n",
    "\n",
    "    def translation(raw_image,translation_range):\n",
    "        rows,cols=raw_image.shape\n",
    "        trans_x=translation_range*np.random.uniform()-0.5*translation_range\n",
    "        trans_y=translation_range*np.random.uniform()-0.5*translation_range\n",
    "        trans_M=np.float32([[1,0,trans_x],[0,1,trans_y]])\n",
    "        return cv2.warpAffine(raw_image,trans_M,(cols,rows))\n",
    "\n",
    "    def shear(raw_image):\n",
    "        rows,cols=raw_image.shape\n",
    "        x1=0.2*cols;y1=0.2*rows\n",
    "        x2=0.8*cols;y2=0.8*rows\n",
    "        mult_x=np.random.random(3)*cols\n",
    "        mult_y=np.random.random(3)*rows\n",
    "\n",
    "        points_1=np.float32([[y1,x1],\n",
    "                             [y2,x1],\n",
    "                            [y1,x2]])\n",
    "\n",
    "        points_2=np.float32([[y1+mult_y[0],x1+mult_x[0]],\n",
    "                             [y2+mult_y[1],x1+mult_x[1]],\n",
    "                            [y1+mult_y[2],x2+mult_x[2]]])\n",
    "\n",
    "        shear_M=cv2.getAffineTransform(points_1,points_2)\n",
    "        return cv2.warpAffine(raw_image,shear_M,(cols,rows))\n",
    "\n",
    "    def scale(raw_image):\n",
    "        rows,cols=raw_image.shape\n",
    "        scale_factor=np.random.uniform(0.5,5.0)\n",
    "        return cv2.resize(raw_image,dsize=(32,32),fx=scale_factor,fy=scale_factor,interpolation=cv2.INTER_CUBIC)\n",
    "\n",
    "    # def contrast(raw_image): # Removed because we are now working with a 1-channel image\n",
    "    #     rows,cols=raw_image.shape\n",
    "    #     hsv=cv2.cvtColor(raw_image,cv2.COLOR_BGR2HSV)\n",
    "    #     h_channel,s_channel,v_channel=cv2.split(hsv)\n",
    "    #     h_channel=np.add(h_channel,random.uniform(-100,100))\n",
    "    #     v_channel=np.add(v_channel,random.uniform(-100,100))\n",
    "    #     merged=np.uint8(np.dstack((h_channel,s_channel,v_channel)))\n",
    "    #     return cv2.cvtColor(merged,cv2.COLOR_HSV2BGR)\n",
    "\n",
    "    def flip_secondary(X,Y):\n",
    "        class_list,class_indices,class_counts=np.unique(Y, return_index=True, return_counts=True)\n",
    "        x_flip_out=np.array([0,32,32,3])\n",
    "        y_flip_out=np.array([0])\n",
    "\n",
    "        label_flip_vertical=np.array([9,10,11,12,13,15,17,18,21,22,23,25,26,\\\n",
    "                                      27,28,29,30,31,32,35,40,41,42])\n",
    "        label_flip_horizontal=np.array([1,5,7,9,10,12,15,17,32,38,39,40,41,42])\n",
    "        label_flip_classes=np.array([[19,20],\n",
    "                                     [20,19],\n",
    "                                     [33,34],\n",
    "                                     [34,33],\n",
    "                                     [36,37],\n",
    "                                     [37,36],\n",
    "                                     [38,39],\n",
    "                                     [39,38]]) #Source label (original label), target/goal label\n",
    "\n",
    "        for class_label in range(43):\n",
    "            \n",
    "            X_flip_out=np.append(X_flip_out,X[Y==class_label],axis=0)\n",
    "            \n",
    "            if class_label in label_flip_vertical:\n",
    "                X_flip_out=np.append(X_flip_out,cv2.flip(X[y==class_label],1),axis=0)\n",
    "            print(\"Images in vertically-invariant classes have been flipped.\")\n",
    "            \n",
    "            if class_label in label_flip_horizontal:\n",
    "                X_flip_out=np.append(X_flip_out,cv2.flip(X[y==class_label],0),axis=0)\n",
    "            print(\"Images in horizontally-invariant classes have been flipped.\")\n",
    "            \n",
    "            if class_label in label_flip_classes[:,0]:\n",
    "                target_class=label_flip_classes[label_flip_classes[:,0]==class_label][0,1]\n",
    "                X_flip_out=np.append(X_flip_out,cv2.flip(X[y==target_class],1),axis=0)\n",
    "            \n",
    "            print(\"Images in ambiguous classed have been flipped.\")\n",
    "            extended_length=X_flip_out[0]-y_flip_out[0]\n",
    "            y_flip_out=np.append(y_flip_out,np.full((extended_length),class_label))\n",
    "        \n",
    "#         for index in label_flip_vertical: # Previous implementation that was streamlined\n",
    "#             temp_imageindex=class_indices[index]\n",
    "#             temp_classcount=class_counts[index]\n",
    "#             temp_images=[]\n",
    "#             v_flipped_images=[]\n",
    "#             v_flipped_labels=[]\n",
    "#             for i in range (temp_imageindex,temp_imageindex+temp_classcount):\n",
    "#                 temp_images.append(X[i])\n",
    "#             for image in temp_images:\n",
    "#                 v_flipped_images.append(cv2.flip(image,1))\n",
    "#                 v_flipped_labels.append(index)\n",
    "#             x_flip_out=np.array(v_flipped_images)\n",
    "#             y_flip_out=np.array(v_flipped_labels)\n",
    "\n",
    "#         for index in label_flip_horizontal:\n",
    "#             temp_imageindex=class_indices[index]\n",
    "#             temp_classcount=class_counts[index]\n",
    "#             temp_images=[]\n",
    "#             h_flipped_images=[]\n",
    "#             h_flipped_labels=[]\n",
    "#             for i in range (temp_imageindex,temp_imageindex+temp_classcount):\n",
    "#                 temp_images.append(X[i])\n",
    "#             for image in temp_images:\n",
    "#                 h_flipped_images.append(cv2.flip(image,0))\n",
    "#                 h_flipped_labels.append(index)\n",
    "#             x_flip_out=np.append(x_flip_out,np.array(h_flipped_images),axis=0)\n",
    "#             y_flip_out=np.append(y_flip_out,np.array(h_flipped_labels),axis=0)\n",
    "\n",
    "    #     for flip_map in label_flip_classes:\n",
    "    #         actual=flip_map[0]\n",
    "    #         desired=flip_map[1]\n",
    "    #         temp_imageindex=class_indices[actual]\n",
    "    #         temp_classcount=class_counts[actual]\n",
    "    #         temp_images=[]\n",
    "    #         both_images=[]\n",
    "    #         both_labels=[]\n",
    "    #         for i in range(temp_imageindex,temp_imageindex+temp_classcount):\n",
    "    #             temp_images.append(X[i])\n",
    "    #         for image in temp_images:\n",
    "    #             both_images.append(image)\n",
    "    #             both_labels.append(desired)\n",
    "\n",
    "    #         x_flip_out=np.append(x_flip_out,np.array(both_images),axis=0)\n",
    "    #         y_flip_out=np.append(y_flip_out,np.array(both_labels),axis=0)\n",
    "        print(\"Augmenting images by flipping has been completed.\")\n",
    "        return (x_flip_out,y_flip_out)"
   ]
  },
  {
   "cell_type": "code",
   "execution_count": null,
   "metadata": {
    "collapsed": true
   },
   "outputs": [],
   "source": [
    "if (path.exists(augment_file) and repeat==0):\n",
    "    pass\n",
    "else:\n",
    "    X_existing_flipped,y_existing_flipped=flip_secondary(X_train_normalized,y_train)\n",
    "    print(\"Flip complete.\")"
   ]
  },
  {
   "cell_type": "code",
   "execution_count": null,
   "metadata": {},
   "outputs": [
    {
     "name": "stdout",
     "output_type": "stream",
     "text": [
      "0\n",
      "Class Label  0 --> Class Image 0\n",
      "Class Label  0 --> Class Image 100\n",
      "Class Label  0 --> Class Image 200\n",
      "Class Label  0 --> Class Image 300\n",
      "Class Label  0 --> Class Image 400\n",
      "Class Label  0 --> Class Image 500\n",
      "Class Label  0 --> Class Image 600\n",
      "1\n",
      "2\n",
      "3\n",
      "4\n",
      "5\n",
      "6\n",
      "Class Label  6 --> Class Image 0\n",
      "Class Label  6 --> Class Image 100\n",
      "Class Label  6 --> Class Image 200\n",
      "Class Label  6 --> Class Image 300\n",
      "Class Label  6 --> Class Image 400\n",
      "7\n",
      "8\n",
      "9\n",
      "10\n",
      "11\n",
      "12\n",
      "13\n",
      "14\n",
      "Class Label  14 --> Class Image 0\n",
      "Class Label  14 --> Class Image 100\n",
      "15\n",
      "Class Label  15 --> Class Image 0\n",
      "Class Label  15 --> Class Image 100\n",
      "Class Label  15 --> Class Image 200\n",
      "Class Label  15 --> Class Image 300\n",
      "16\n",
      "Class Label  16 --> Class Image 0\n",
      "Class Label  16 --> Class Image 100\n",
      "Class Label  16 --> Class Image 200\n",
      "Class Label  16 --> Class Image 300\n",
      "Class Label  16 --> Class Image 400\n",
      "17\n",
      "18\n",
      "19\n",
      "Class Label  19 --> Class Image 0\n",
      "Class Label  19 --> Class Image 100\n",
      "Class Label  19 --> Class Image 200\n",
      "Class Label  19 --> Class Image 300\n",
      "Class Label  19 --> Class Image 400\n",
      "Class Label  19 --> Class Image 500\n",
      "Class Label  19 --> Class Image 600\n",
      "20\n",
      "Class Label  20 --> Class Image 0\n",
      "Class Label  20 --> Class Image 100\n",
      "Class Label  20 --> Class Image 200\n",
      "Class Label  20 --> Class Image 300\n",
      "Class Label  20 --> Class Image 400\n",
      "Class Label  20 --> Class Image 500\n",
      "21\n",
      "Class Label  21 --> Class Image 0\n",
      "Class Label  21 --> Class Image 100\n",
      "Class Label  21 --> Class Image 200\n",
      "Class Label  21 --> Class Image 300\n",
      "Class Label  21 --> Class Image 400\n",
      "Class Label  21 --> Class Image 500\n",
      "22\n",
      "Class Label  22 --> Class Image 0\n",
      "Class Label  22 --> Class Image 100\n",
      "Class Label  22 --> Class Image 200\n",
      "Class Label  22 --> Class Image 300\n",
      "Class Label  22 --> Class Image 400\n"
     ]
    }
   ],
   "source": [
    "if (path.exists(augment_file) and repeat==0):\n",
    "    pass\n",
    "else:\n",
    "    indices_augmented=[]\n",
    "    X_train_augmented=np.copy(X_existing_flipped)\n",
    "    y_train_augmented=np.copy(y_existing_flipped)\n",
    "\n",
    "    balance_threshold=850\n",
    "    for class_index in range(0,n_classes):\n",
    "        print(\"Skipping images with label {}\".format(class_index))\n",
    "        image_index=np.where(y_train==class_index)\n",
    "        class_size=(np.size(image_index))\n",
    "\n",
    "        repeat=balance_threshold-class_size\n",
    "        if class_size<=balance_threshold:\n",
    "            for i in range(0,repeat):\n",
    "                if (i%100==0):\n",
    "                    print(\"Class Label \", class_index,\"--> Class Image\",i)\n",
    "                indices_augmented.append(X_train_augmented.shape[0])\n",
    "                augment_raw_copy=X_train_normalized[image_index[0][i%class_size]]\n",
    "                a0=rotation(augment_raw_copy,40)\n",
    "                a1=translation(augment_raw_copy,10)\n",
    "                a2=shear(augment_raw_copy)\n",
    "                a3=scale(augment_raw_copy)\n",
    "                \n",
    "                X_train_augmented=np.concatenate((X_train_augmented,[a0,a1,a2,a3]),axis=0)\n",
    "                y_train_augmented=np.concatenate((y_train_augmented,[class_index,class_index,class_index,class_index]),axis=0)\n",
    "\n",
    "    print(\"Complete augmenting has been done by linear transform (rotation, translation, shear, scale)\")\n",
    "    "
   ]
  },
  {
   "cell_type": "code",
   "execution_count": null,
   "metadata": {
    "collapsed": true
   },
   "outputs": [],
   "source": [
    "## PICKLING AUGMENTED DATASET\n",
    "if (path.exists(augment_file) and repeat==0):\n",
    "    pass\n",
    "else:\n",
    "    augmented_pickle='traffic-signs-data/augmented_train.p'\n",
    "\n",
    "    try:\n",
    "        print(\"Pickling dataset.\")\n",
    "        pickled=open(augmented_pickle,'wb')\n",
    "        save = {\n",
    "        'augmented_train_dataset': X_train_augmented,\n",
    "        'augmented_train_labels': y_train_augmented,\n",
    "        }\n",
    "        pickle.dump(save,pickled)\n",
    "        pickled.close()\n",
    "    except:\n",
    "        print(\"Error in creating a pickled dataset. Debug.\")\n",
    "    print(\"Dataset pickled.\")\n",
    "    del X_train_augmented\n",
    "    del y_train_augmented"
   ]
  },
  {
   "cell_type": "code",
   "execution_count": null,
   "metadata": {
    "collapsed": true
   },
   "outputs": [],
   "source": [
    "with open(augment_file, mode='rb') as f:\n",
    "    augment_train = pickle.load(f)\n",
    "\n",
    "X_train_augmented, y_train_augmented = augment_train['augmented_train_dataset'], augment_train['augmented_train_labels']\n",
    "\n",
    "# Plot traffic sign images.\n",
    "print(\"AugmentX\",X_train_augmented.shape)\n",
    "print(\"AugmentY\",y_train_augmented.shape)\n",
    "\n",
    "# X_aug_shuffle,y_aug_shuffle=shuffle(X_train_augmented,y_train_augmented)\n",
    "\n",
    "# aug_class_list,aug_class_indices,aug_class_counts=np.unique(y_aug_shuffle,return_index=True,return_counts=True)\n",
    "# print(\"Class list\", aug_class_list)\n",
    "# print(\"Class Index\", aug_class_indices)\n",
    "# print(\"Class Counts\", aug_class_counts)\n",
    "\n",
    "# for CClass,IIndex,Counts in zip(augment_class_list,augment_class_indices,augment_class_counts):\n",
    "#     print(\"Class {} {} : {} samples.\".format(Class,arr_classes[Class],Counts))\n",
    "#     Main=plt.figure(figsize=(10,5))\n",
    "#     choice=random.sample(range(Index,Counts+Index),10)\n",
    "#     for i in range (0,10):\n",
    "#         row=Main.add_subplot(1,10,i+1,xticks=[],yticks=[])\n",
    "#         row.imshow(X_flipped[choice[i]],cmap='gray')\n",
    "#     plt.show()\n",
    "\n",
    "# hist,bins=np.histogram(y_train_augmented,bins=n_classes)\n",
    "# width=0.7*(bins[1]-bins[0])\n",
    "# center=(bins[:-1]+bins[1:])/2\n",
    "# plt.bar(center,hist,align='center',width=width)\n",
    "# plt.show()\n",
    "print(\"Done\")"
   ]
  },
  {
   "cell_type": "code",
   "execution_count": null,
   "metadata": {
    "collapsed": true
   },
   "outputs": [],
   "source": []
  },
  {
   "cell_type": "code",
   "execution_count": null,
   "metadata": {
    "collapsed": true
   },
   "outputs": [],
   "source": [
    "## DATA EXPLORATION & VISUALIZATION\n",
    "\n",
    "# Histogram plot to identify count of each class.\n",
    "hist_ytrain_count=np.bincount(y_train)\n",
    "hist_xtrain_count=len(hist_ytrain_count)\n",
    "\n",
    "plt.figure(figsize=(12,5))\n",
    "plt.hist(y_train_augmented, hist_xtrain_count, normed=False, facecolor='green',align='mid',rwidth=0.8,alpha=0.9,label='Augmented Training set')\n",
    "plt.hist(y_train,hist_xtrain_count, normed=False, facecolor='black',align='mid',rwidth=0.8, alpha=0.75, label='Original Training set')\n",
    "plt.legend(loc='upper right')\n",
    "plt.xlabel('Class Label')\n",
    "plt.ylabel('Count')\n",
    "plt.title(r'Distribution of original training and augmented training dataset for each class')\n",
    "plt.axis([0, 43,0,4000])\n",
    "plt.grid(True)\n",
    "plt.tight_layout()\n",
    "plt.show()"
   ]
  },
  {
   "cell_type": "raw",
   "metadata": {},
   "source": [
    "# for augment_class in range(0,n_classes):\n",
    "    \n",
    "    \n",
    "    \n",
    "\n",
    "print(\"Augment start\")\n",
    "X_flipped,y_flipped=flip_secondary(X_train_normalized,y_train)\n",
    "print(\"Augment end\")\n",
    "\n",
    "print(\"X_flipped:\",X_flipped.shape)\n",
    "print(\"y_flipped:\",y_flipped.shape)\n",
    "print(\"y_flipped:\",type(y_flipped))\n",
    "\n",
    "\n",
    "\n",
    "augment_class_list,augment_class_indices,augment_class_counts=np.unique(y_flipped,return_index=True, return_counts=True)\n",
    "print(\"Class indices\", class_list)\n",
    "print(\"Class indices\", class_indices)\n",
    "print(\"Class counts\", class_counts)\n",
    "\n",
    "\n",
    "# Plot traffic sign images.\n",
    "for Class,Index,Counts in zip(augment_class_list,augment_class_indices,augment_class_counts):\n",
    "    print(\"Class {} {} : {} samples.\".format(Class,arr_classes[Class],Counts))\n",
    "    Main=plt.figure(figsize=(10,5))\n",
    "    choice=random.sample(range(Index,Counts+Index),10)\n",
    "    for i in range (0,10):\n",
    "        row=Main.add_subplot(1,10,i+1,xticks=[],yticks=[])\n",
    "        row.imshow(X_flipped[choice[i]],cmap='gray')\n",
    "    plt.show()\n",
    "\n",
    "\n",
    "\n",
    "    "
   ]
  },
  {
   "cell_type": "raw",
   "metadata": {
    "scrolled": true
   },
   "source": [
    "## IMPLEMENTING DATASET AUGMENTATION\n",
    "\n",
    "# Inelegant code for array manipulation.\n",
    "X_train_copy=X_train[0,:,:,:]\n",
    "X_train_transform=np.empty((0,32,32,3))\n",
    "y_train_copy=np.empty((0,1))\n",
    "\n",
    "for img in range(0,int(len(X_train))): # img is an index\n",
    "    \n",
    "    if (img%100==0):\n",
    "        print(img)\n",
    "    X_train_c0=rotation(X_train[img,:,:,:],40)\n",
    "    X_train_c1=translation(X_train[img,:,:,:],10)\n",
    "    X_train_c2=shear(X_train[img,:,:,:])\n",
    "    X_train_c3=scale(X_train[img,:,:,:])\n",
    "    X_train_c4=contrast(X_train[img,:,:,:])\n",
    "    \n",
    "    X_train_transform=np.vstack((X_train_transform,\\\n",
    "                                 np.stack((X_train[img],X_train_c0,X_train_c1,X_train_c2,X_train_c3))))\n",
    "\n",
    "    \n",
    "    \n",
    "    \n",
    "    for _ in range(0,5):\n",
    "        y_train_copy=np.vstack((y_train_copy,y_train[img]))\n",
    "\n",
    "n_xtransform=X_train_transform.shape\n",
    "n_ytransform=y_train_copy.shape\n",
    "print(\"Transform Shape\",n_xtransform,n_ytransform)\n",
    "\n",
    "class_list,class_indices,class_counts=np.unique(y_train_copy,return_index=True, return_counts=True)\n",
    "print(\"Class indices\", class_list)\n",
    "print(\"Class indices\", class_indices)\n",
    "print(\"Class counts\", class_counts)\n",
    "\n",
    "X_flipped,y_flipped=flip_secondary(X_train,y_train)\n",
    "print(\"X_flipped:\",X_flipped.shape)\n",
    "print(\"y_flipped:\",y_flipped.shape)\n",
    "print(\"y_flipped:\",type(y_flipped))\n",
    "\n",
    "X_augmented=np.vstack((X_train_transform,X_flipped))\n",
    "print(\"Augmented\",X_augmented.shape)\n",
    "y_augmented=np.vstack((y_train_copy,y_flipped.reshape(len(y_flipped),1)))\n",
    "print(\"Augmented-y\",y_augmented.shape)\n",
    "\n",
    "class_list,class_indices,class_counts=np.unique(y_augmented,return_index=True, return_counts=True)\n",
    "print(\"Class indices\", class_list)\n",
    "print(\"Class indices\", class_indices)\n",
    "print(\"Class counts\", class_counts)\n",
    "\n",
    "\n",
    "\n",
    "# del X_train_copy\n",
    "# del y_train_copy\n",
    "# del X_flipped\n",
    "# del y_flipped\n",
    "\n",
    "print(\"Augmented dataset created.\")"
   ]
  },
  {
   "cell_type": "raw",
   "metadata": {},
   "source": [
    "print(\"TRAIN COPY:\",X_train_copy.shape)\n",
    "print(\"R:\",(rotation(X_train[img,:,:,:],40)).shape)\n",
    "\n",
    "plt.imshow(X_train_transform[100])\n",
    "plt.show()"
   ]
  },
  {
   "cell_type": "raw",
   "metadata": {},
   "source": [
    "## PICKLING AUGMENTED DATASET\n",
    "augmented_pickle='traffic-signs-data/augmented_train.p'\n",
    "\n",
    "try:\n",
    "    print(\"Pickling dataset.\")\n",
    "    pickled=open(augmented_pickle,'wb')\n",
    "    save = {\n",
    "    'augmented_train_dataset': X_augmented,\n",
    "    'augmented_train_labels': y_augmented,\n",
    "    }\n",
    "    pickle.dump(save,pickled)\n",
    "    pickled.close()\n",
    "except:\n",
    "    print(\"Error in creating a pickled dataset. Debug.\")\n",
    "print(\"Dataset pickled.\")"
   ]
  },
  {
   "cell_type": "raw",
   "metadata": {},
   "source": [
    "new_pickle='traffic-signs-data/augmented_train.p'\n",
    "\n",
    "with open(new_pickle, mode='rb') as f:\n",
    "    augmented_train = pickle.load(f)\n",
    "print(\"New dataset loaded.\")\n",
    "X_new_train,y_new_train=augmented_train['augmented_train_dataset'],augmented_train['augmented_train_labels']\n",
    "\n",
    "augment_classes,augment_indices,augment_classcounts=np.unique(y_new_train, return_index=True, return_counts=True)\n",
    "\n",
    "# print(\"Nclasslist\",augment_classes)\n",
    "print(\"NClassindices\",augment_indices)\n",
    "print(\"NClass_counts\",augment_classcounts)\n",
    "\n",
    "# for nClass,nIndex,nCounts in zip(augment_classes,augment_indices,augment_classcounts):\n",
    "#     print(\"Class {} {} : {} samples.\".format(nClass,arr_classes[nClass],nCounts))\n",
    "#     Main=plt.figure(figsize=(10,5))\n",
    "#     choice=random.sample(range(nIndex,nCounts+nIndex),10)\n",
    "#     for i in range (0,10):\n",
    "#         row=Main.add_subplot(1,10,i+1,xticks=[],yticks=[])\n",
    "#         row.imshow(X_new_train[choice[i]])\n",
    "\n",
    "#     plt.show()"
   ]
  },
  {
   "cell_type": "code",
   "execution_count": null,
   "metadata": {
    "collapsed": true,
    "scrolled": true
   },
   "outputs": [],
   "source": [
    "print(\"Shuffling and reshaping datasets\")\n",
    "\n",
    "X_train_shuffle,y_train_shuffle=shuffle(np.asarray(X_train_normalized).reshape(len(X_train_normalized),32,32,1),np.asarray(y_train).reshape(len(y_train),))\n",
    "X_valid_shuffle,y_valid_shuffle=shuffle(np.asarray(X_valid_grayscale).reshape(len(X_valid_grayscale),32,32,1),np.asarray(y_valid).reshape(len(y_valid),))\n",
    "X_test_shuffle,y_test_shuffle=shuffle(np.asarray(X_test_grayscale).reshape(len(X_test_grayscale),32,32,1),np.asarray(y_test).reshape(len(y_test),))\n",
    "\n",
    "print(\"Shuffled training datasets shape: \",X_train_shuffle.shape,\"& \",y_train_shuffle.shape)\n",
    "print(\"Shuffled validation datasets shape: \",X_valid_shuffle.shape,\"& \",y_valid_shuffle.shape)\n",
    "print(\"Shuffled testing datasets shape: \",X_test_shuffle.shape,\"& \",y_test_shuffle.shape)\n",
    "\n",
    "print(\"Datasets ready for the neural network.\")"
   ]
  },
  {
   "cell_type": "markdown",
   "metadata": {},
   "source": [
    "### Model Architecture- Setups"
   ]
  },
  {
   "cell_type": "code",
   "execution_count": null,
   "metadata": {
    "collapsed": true
   },
   "outputs": [],
   "source": [
    "EPOCHS=50\n",
    "BATCH_SIZE=100\n",
    "\n",
    "# BASIC HYPERPARAMETERS\n",
    "mu=0.0\n",
    "sigma=0.1\n",
    "learning_rate=0.001"
   ]
  },
  {
   "cell_type": "code",
   "execution_count": null,
   "metadata": {
    "collapsed": true
   },
   "outputs": [],
   "source": [
    "X=tf.placeholder(tf.float32,(None,32,32,1))\n",
    "Y=tf.placeholder(tf.int32,(None))\n",
    "keep_prob=tf.placeholder(tf.float32)\n",
    "one_hot_y=tf.one_hot(Y,43)"
   ]
  },
  {
   "cell_type": "markdown",
   "metadata": {},
   "source": [
    "### Architecture One: LeNet-5"
   ]
  },
  {
   "cell_type": "code",
   "execution_count": null,
   "metadata": {
    "collapsed": true
   },
   "outputs": [],
   "source": [
    "def LeNet_init(x):\n",
    "    weights={\n",
    "        'w_conv1': tf.Variable(tf.truncated_normal(shape=[4,4,1,6], mean=mu, stddev=sigma)),\n",
    "        'w_conv2': tf.Variable(tf.truncated_normal(shape=[5,5,6,16], mean=mu, stddev=sigma)),\n",
    "        'w_dense1': tf.Variable(tf.truncated_normal(shape=[400,120], mean=mu, stddev=sigma)),\n",
    "        'w_dense2': tf.Variable(tf.truncated_normal(shape=[120,84], mean=mu, stddev=sigma)),\n",
    "        'w_output': tf.Variable(tf.truncated_normal(shape=[84,43], mean=mu, stddev=sigma))\n",
    "    }\n",
    "    \n",
    "    biases={\n",
    "        'b_conv1': tf.Variable(tf.truncated_normal([6])),\n",
    "        'b_conv2': tf.Variable(tf.truncated_normal([16])),\n",
    "        'b_dense1': tf.Variable(tf.truncated_normal([120])),\n",
    "        'b_dense2': tf.Variable(tf.truncated_normal([84])),\n",
    "        'b_output': tf.Variable(tf.truncated_normal([43]))\n",
    "    }\n",
    "\n",
    "    mpool_filters={\n",
    "        'filt_conv1': [1,2,2,1],\n",
    "        'filt_conv2': [1,2,2,1]\n",
    "    }\n",
    "\n",
    "    Padding='VALID'\n",
    "    Strides_conv=[1,1,1,1]\n",
    "    Strides_pool=[1,2,2,1]\n",
    "    \n",
    "    # Layer 1: Convolutional. Input = 32x32x1. Output = 28x28x6.\n",
    "    conv1=tf.nn.conv2d(x,weights['w_conv1'],strides=Strides_conv,padding=Padding)\n",
    "    conv1=tf.nn.bias_add(conv1,biases['b_conv1'])\n",
    "    conv1=tf.nn.relu(conv1) # Activation.\n",
    "    conv1=tf.nn.max_pool(conv1,ksize=mpool_filters['filt_conv1'],strides=Strides_pool,padding=Padding) # Pooling. \n",
    "    # Input = 28x28x6. Output = 14x14x6.\n",
    "  \n",
    "    # Layer 2: Convolutional. Output = 10x10x16.\n",
    "    conv2=tf.nn.conv2d(conv1,weights['w_conv2'],strides=Strides_conv,padding=Padding)\n",
    "    conv2=tf.nn.bias_add(conv2,biases['b_conv2'])\n",
    "    conv2=tf.nn.relu(conv2) # Activation.\n",
    "    conv2=tf.nn.max_pool(conv2,ksize=mpool_filters['filt_conv2'],strides=Strides_pool,padding=Padding) # Pooling.\n",
    "    # Input = 10x10x16. Output = 5x5x16.\n",
    "    \n",
    "    # Flatten. Input = 5x5x16. Output = 400.\n",
    "    lenet_flat=flatten(conv2)\n",
    "    \n",
    "    # Layer 3: Fully Connected. Input = 400. Output = 120.\n",
    "    dense_1=tf.add(tf.matmul(lenet_flat,weights['w_dense1']),biases['b_dense1'])\n",
    "    dense_1=tf.nn.relu(dense_1) # Activation.\n",
    "#     full_one=tf.nn.dropout(full_one,keep_prob)\n",
    "    \n",
    "    # Layer 4: Fully Connected. Input = 120. Output = 84.\n",
    "    dense_2=tf.add(tf.matmul(dense_1,weights['w_dense2']),biases['b_dense2'])\n",
    "    dense_2=tf.nn.relu(dense_2) # Activation.\n",
    "#     full_two=tf.nn.dropout(full_two,keep_prob)\n",
    "    \n",
    "    # Layer 5: Fully Connected. Input = 84. Output = 43.\n",
    "    logits=tf.add(tf.matmul(dense_2,weights['w_output']),biases['b_output'])\n",
    " \n",
    "    return logits    "
   ]
  },
  {
   "cell_type": "markdown",
   "metadata": {},
   "source": [
    "#### Train, Validate and Test the Model: LeNet-5"
   ]
  },
  {
   "cell_type": "markdown",
   "metadata": {},
   "source": [
    "A validation set can be used to assess how well the model is performing. A low accuracy on the training and validation\n",
    "sets imply underfitting. A high accuracy on the training set but low accuracy on the validation set implies overfitting."
   ]
  },
  {
   "cell_type": "code",
   "execution_count": null,
   "metadata": {
    "collapsed": true
   },
   "outputs": [],
   "source": [
    "logits_LeNet5=LeNet_init(X)\n",
    "cross_entropy=tf.nn.softmax_cross_entropy_with_logits(labels=one_hot_y,logits=logits_LeNet5)\n",
    "loss_operation=tf.reduce_mean(cross_entropy)\n",
    "optimizer=tf.train.AdamOptimizer(learning_rate=learning_rate)\n",
    "training_operation=optimizer.minimize(loss_operation)"
   ]
  },
  {
   "cell_type": "code",
   "execution_count": null,
   "metadata": {
    "collapsed": true
   },
   "outputs": [],
   "source": [
    "correct_prediction=tf.equal(tf.argmax(logits_LeNet5,1),tf.argmax(one_hot_y,1))\n",
    "accuracy_operation=tf.reduce_mean(tf.cast(correct_prediction,tf.float32))\n",
    "saver=tf.train.Saver()\n",
    "\n",
    "\n",
    "def evaluate(X_dataset,Y_dataset):\n",
    "    total_accuracy=0\n",
    "    data_size=len(X_dataset)\n",
    "    \n",
    "    sess=tf.get_default_session()\n",
    "    for offset in range(0,data_size,BATCH_SIZE):\n",
    "        batch_x,batch_y=X_dataset[offset:offset+BATCH_SIZE],Y_dataset[offset:offset+BATCH_SIZE]\n",
    "        local_accuracy=sess.run(accuracy_operation,feed_dict={X:batch_x, Y:batch_y, keep_prob:1.0})\n",
    "        total_accuracy+=(local_accuracy*len(batch_x))\n",
    "    return total_accuracy/data_size  "
   ]
  },
  {
   "cell_type": "code",
   "execution_count": null,
   "metadata": {
    "collapsed": true
   },
   "outputs": [],
   "source": [
    "init=tf.global_variables_initializer()\n",
    "with tf.Session() as sess:\n",
    "    sess.run(init)\n",
    "    data_size=len(X_train_shuffle)\n",
    "    \n",
    "    print(\"LeNet5 Training in progress...\")\n",
    "    print()\n",
    "    \n",
    "    for i in range(EPOCHS):\n",
    "        X_train_shuffle,y_train_shuffle=shuffle(X_train_shuffle,y_train_shuffle)\n",
    "        \n",
    "        for offset in range(0,data_size,BATCH_SIZE):\n",
    "            end=offset+BATCH_SIZE\n",
    "            batch_x,batch_y=X_train_shuffle[offset:end],y_train_shuffle[offset:end]\n",
    "            sess.run(training_operation, feed_dict={X:batch_x, Y:batch_y, keep_prob:0.50})\n",
    "        \n",
    "        validation_accuracy=evaluate(X_valid_shuffle,y_valid_shuffle)\n",
    "        print(\"EPOCH {}...\".format(i+1))\n",
    "        print(\"Validation Accuracy of {:.5f}\".format(validation_accuracy))\n",
    "        print()\n",
    "        \n",
    "    saver.save(sess,'./lenet5_init')\n",
    "    print(\"LeNet-5 model saved.\")"
   ]
  },
  {
   "cell_type": "markdown",
   "metadata": {},
   "source": [
    "### Architecture Two: VGG-16"
   ]
  },
  {
   "cell_type": "code",
   "execution_count": null,
   "metadata": {
    "collapsed": true
   },
   "outputs": [],
   "source": [
    "# Defining commonly used tensorflow functions\n",
    "\n",
    "def convolution(layer,kernel,bias):\n",
    "    # W- Weight [Filter height, Filter width, color_channels, k_output]\n",
    "    temp=tf.nn.conv2d(layer,kernel,strides=[1,1,1,1],padding='SAME')\n",
    "    return tf.nn.bias_add(temp,bias)\n",
    "\n",
    "def full_connected(layer,weight,bias):\n",
    "    temp=tf.matmul(layer,weight)\n",
    "    return tf.nn.bias_add(temp,bias)\n",
    "    \n",
    "def maxpool(layer):\n",
    "    return tf.nn.max_pool(layer,ksize=[1,2,2,1],strides=[1,2,2,1],padding='SAME')\n",
    "\n",
    "def maxpool_3x3(layer):\n",
    "    return tf.nn.max_pool(layer,ksize=[1,3,3,1],strides=[1,1,1,1],padding='SAME')\n",
    "    \n",
    "def relu(layer):\n",
    "    return tf.nn.relu(layer)\n",
    "\n",
    "def dropout(layer,keep_prob):\n",
    "    return tf.nn.dropout(layer,keep_prob)"
   ]
  },
  {
   "cell_type": "code",
   "execution_count": null,
   "metadata": {
    "collapsed": true
   },
   "outputs": [],
   "source": [
    "def VGG_16(x):\n",
    "    weights={\n",
    "        'w_conv1_1': tf.Variable(tf.truncated_normal(shape=[3,3,1,64], mean=mu, stddev=sigma)),\n",
    "        'w_conv1_2': tf.Variable(tf.truncated_normal(shape=[3,3,64,64], mean=mu, stddev=sigma)),\n",
    "        'w_conv2_1': tf.Variable(tf.truncated_normal(shape=[3,3,64,128], mean=mu, stddev=sigma)),\n",
    "        'w_conv2_2': tf.Variable(tf.truncated_normal(shape=[3,3,128,128], mean=mu, stddev=sigma)),\n",
    "        'w_conv3_1': tf.Variable(tf.truncated_normal(shape=[3,3,128,256], mean=mu, stddev=sigma)),\n",
    "        'w_conv3_2': tf.Variable(tf.truncated_normal(shape=[3,3,256,256], mean=mu, stddev=sigma)),\n",
    "        'w_conv3_3': tf.Variable(tf.truncated_normal(shape=[3,3,256,256], mean=mu, stddev=sigma)),\n",
    "        'w_conv4_1': tf.Variable(tf.truncated_normal(shape=[3,3,256,512], mean=mu, stddev=sigma)),\n",
    "        'w_conv4_2': tf.Variable(tf.truncated_normal(shape=[3,3,512,512], mean=mu, stddev=sigma)),\n",
    "        'w_conv4_3': tf.Variable(tf.truncated_normal(shape=[3,3,512,512], mean=mu, stddev=sigma)),\n",
    "        'w_conv5_1': tf.Variable(tf.truncated_normal(shape=[3,3,512,512], mean=mu, stddev=sigma)),\n",
    "        'w_conv5_2': tf.Variable(tf.truncated_normal(shape=[3,3,512,512], mean=mu, stddev=sigma)),\n",
    "        'w_conv5_3': tf.Variable(tf.truncated_normal(shape=[3,3,512,512], mean=mu, stddev=sigma)),\n",
    "        'w_dense_1': tf.Variable(tf.truncated_normal(shape=[4608,4096], mean=mu, stddev=sigma)),\n",
    "        'w_dense_2': tf.Variable(tf.truncated_normal(shape=[4096,4096], mean=mu, stddev=sigma)),\n",
    "        'w_output': tf.Variable(tf.truncated_normal(shape=[4096,43], mean=mu, stddev=sigma))\n",
    "        \n",
    "    }\n",
    "        \n",
    "    biases={\n",
    "        'b_conv1_1': tf.Variable(tf.truncated_normal(shape=[3,3,1,64], mean=mu, stddev=sigma)),\n",
    "        'b_conv1_2': tf.Variable(tf.truncated_normal(shape=[3,3,64,64], mean=mu, stddev=sigma)),\n",
    "        'b_conv2_1': tf.Variable(tf.truncated_normal(shape=[3,3,64,128], mean=mu, stddev=sigma)),\n",
    "        'b_conv2_2': tf.Variable(tf.truncated_normal(shape=[3,3,128,128], mean=mu, stddev=sigma)),\n",
    "        'b_conv3_1': tf.Variable(tf.truncated_normal(shape=[3,3,128,256], mean=mu, stddev=sigma)),\n",
    "        'b_conv3_2': tf.Variable(tf.truncated_normal(shape=[3,3,256,256], mean=mu, stddev=sigma)),\n",
    "        'b_conv3_3': tf.Variable(tf.truncated_normal(shape=[3,3,256,256], mean=mu, stddev=sigma)),\n",
    "        'b_conv4_1': tf.Variable(tf.truncated_normal(shape=[3,3,256,512], mean=mu, stddev=sigma)),\n",
    "        'b_conv4_2': tf.Variable(tf.truncated_normal(shape=[3,3,512,512], mean=mu, stddev=sigma)),\n",
    "        'b_conv4_3': tf.Variable(tf.truncated_normal(shape=[3,3,512,512], mean=mu, stddev=sigma)),\n",
    "        'b_conv5_1': tf.Variable(tf.truncated_normal(shape=[3,3,512,512], mean=mu, stddev=sigma)),\n",
    "        'b_conv5_2': tf.Variable(tf.truncated_normal(shape=[3,3,512,512], mean=mu, stddev=sigma)),\n",
    "        'b_conv5_3': tf.Variable(tf.truncated_normal(shape=[3,3,512,512], mean=mu, stddev=sigma)),\n",
    "        'b_dense_1': tf.Variable(tf.truncated_normal(shape=[4608,4096], mean=mu, stddev=sigma)),\n",
    "        'b_dense_2': tf.Variable(tf.truncated_normal(shape=[4096,4096], mean=mu, stddev=sigma)),\n",
    "        'b_output': tf.Variable(tf.truncated_normal(shape=[4096,43], mean=mu, stddev=sigma))\n",
    "        \n",
    "    }\n",
    "\n",
    "       \n",
    "    # Block One: Two convolution layers \n",
    "    conv1_1=relu(convolution(layer,weights['w_conv1_1'],biases['b_conv1_1']))\n",
    "    conv1_2=relu(convolution(conv1_1,weights['w_conv1_2'],biases['b_conv1_1']))\n",
    "    \n",
    "    # Block Two: One max pooling layer followed by Two convolution layers\n",
    "    pool2=maxpool(conv1_2)\n",
    "    conv2_1=relu(convolution(pool2,weights['w_conv2_1'],biases['b_conv2_1']))\n",
    "    conv2_2=relu(convolution(conv2_1,weights['w_conv2_2'],biases['b_conv2_2']))\n",
    "    \n",
    "    # Block Three: One max pooling layer followed by Three convolution layers\n",
    "    pool3=maxpool(conv2_2)\n",
    "    conv3_1=relu(convolution(pool3,weights['w_conv3_1'],biases['b_conv3_1']))\n",
    "    conv3_2=relu(convolution(conv3_1,weights['w_conv3_2'],biases['b_conv3_2']))\n",
    "    conv3_3=relu(convolution(conv3_2,weights['w_conv3_3'],biases['b_conv3_3']))\n",
    "    \n",
    "    # Block Four: One max pooling layer followed by Three convolution layers\n",
    "    pool4=maxpool(conv3_3)\n",
    "    conv4_1=relu(convolution(pool4,weights['w_conv4_1'],biases['b_conv4_1']))\n",
    "    conv4_2=relu(convolution(conv4_1,weights['w_conv4_2'],biases['b_conv4_2']))\n",
    "    conv4_3=relu(convolution(conv4_2,weights['w_conv4_3'],biases['b_conv4_3']))\n",
    "    \n",
    "    # Block Five: One max pooling layer followed by Three convolution layers\n",
    "    pool5=maxpool(conv4_3)\n",
    "    conv5_1=relu(convolution(pool5,weights['w_conv5_1'],biases['b_conv5_1']))\n",
    "    conv5_2=relu(convolution(conv5_1,weights['w_conv5_2'],biases['b_conv5_2']))\n",
    "    conv5_3=relu(convolution(conv5_2,weights['w_conv5_3'],biases['b_conv5_3']))\n",
    "    \n",
    "    # Block Six: One max pooling layer followed by Three fully-connected layers\n",
    "    pool6=maxpool(conv5_3)\n",
    "    vgg_flat=flatten(pool6)\n",
    "    dense6_1=relu(full_connected(vgg_flat,weights['w_dense_1'],biases['b_dense_1']))\n",
    "    dense6_2=relu(full_connected(dense6_1,weights['w_dense_2'],biases['b_dense_2']))\n",
    "    \n",
    "    logits=full_connected(dense6_2,weights['w_output'],biases['b_output'])\n",
    "    \n",
    "    return logits    "
   ]
  },
  {
   "cell_type": "markdown",
   "metadata": {},
   "source": [
    "#### Train, Validate and Test the Model: VGG-16"
   ]
  },
  {
   "cell_type": "code",
   "execution_count": null,
   "metadata": {
    "collapsed": true
   },
   "outputs": [],
   "source": [
    "logits_VGG16=VGG_16(X)\n",
    "cross_entropy=tf.nn.softmax_cross_entropy_with_logits(labels=one_hot_y,logits=logits_VGG16)\n",
    "loss_operation=tf.reduce_mean(cross_entropy)\n",
    "optimizer=tf.train.AdamOptimizer(learning_rate=learning_rate)\n",
    "training_operation=optimizer.minimize(loss_operation)"
   ]
  },
  {
   "cell_type": "code",
   "execution_count": null,
   "metadata": {
    "collapsed": true
   },
   "outputs": [],
   "source": [
    "correct_prediction=tf.equal(tf.argmax(logits_VGG16,1),tf.argmax(one_hot_y,1))\n",
    "accuracy_operation=tf.reduce_mean(tf.cast(correct_prediction,tf.float32))\n",
    "saver=tf.train.Saver()"
   ]
  },
  {
   "cell_type": "code",
   "execution_count": null,
   "metadata": {
    "collapsed": true
   },
   "outputs": [],
   "source": [
    "init=tf.global_variables_initializer()\n",
    "with tf.Session() as sess:\n",
    "    sess.run(init)\n",
    "    data_size=len(X_train_shuffle)\n",
    "    \n",
    "    print(\"VGG-16 Training in progress...\")\n",
    "    print()\n",
    "    \n",
    "    for i in range(EPOCHS):\n",
    "        X_train_shuffle,y_train_shuffle=shuffle(X_train_shuffle,y_train_shuffle)\n",
    "        \n",
    "        for offset in range(0,data_size,BATCH_SIZE):\n",
    "            end=offset+BATCH_SIZE\n",
    "            batch_x,batch_y=X_train_shuffle[offset:end],y_train_shuffle[offset:end]\n",
    "            sess.run(training_operation, feed_dict={X:batch_x, Y:batch_y, keep_prob:0.50})\n",
    "        \n",
    "        validation_accuracy=evaluate(X_valid_shuffle,y_valid_shuffle)\n",
    "        print(\"EPOCH {}...\".format(i+1))\n",
    "        print(\"Validation Accuracy of {:.5f}\".format(validation_accuracy))\n",
    "        print()\n",
    "        \n",
    "    saver.save(sess,'./vgg16_init')\n",
    "    print(\"VGG-16 model saved.\")"
   ]
  },
  {
   "cell_type": "markdown",
   "metadata": {},
   "source": [
    "### Architecture Three: Repurposed Barebones Model"
   ]
  },
  {
   "cell_type": "code",
   "execution_count": null,
   "metadata": {
    "collapsed": true
   },
   "outputs": [],
   "source": [
    "def inception_module_naive(layer,color_channels,kernel_output):\n",
    "    mu=0\n",
    "    sigma=0.1\n",
    "    # 1*1 Convolution Layer\n",
    "    filter_1_1=tf.Variable(tf.truncated_normal([1,1,color_channels,kernel_output], mu, sigma))\n",
    "    block_conv1=tf.nn.conv2d(layer,filter_1_1,strides=[1,1,1,1], padding='SAME')\n",
    "    \n",
    "    # 3*3 Convolution Layer\n",
    "    filter_3_1=tf.Variable(tf.truncated_normal([3,3,color_channels,kernel_output], mu, sigma))\n",
    "    block_conv3=tf.nn.conv2d(layer,filter_3_1,strides=[1,1,1,1], padding='SAME')\n",
    "    \n",
    "    # 5*5 Convolution Layer\n",
    "    filter_5_1=tf.Variable(tf.truncated_normal([5,5,color_channels,kernel_output], mu, sigma))\n",
    "    block_conv5=tf.nn.conv2d(layer,filter_5_1,strides=[1,1,1,1], padding='SAME')\n",
    "    \n",
    "    # Average Pooling followed by 1*1 Convolution Layer\n",
    "    average_pool=tf.nn.avg_pool(layer,ksize=[1,2,2,1],strides=[1,2,2,1], padding='SAME')\n",
    "    \n",
    "    filter_1_2=tf.Variable(tf.truncated_normal([1,1,color_channels,kernel_output],mu,sigma))\n",
    "    block_avgpool_conv1=tf.nn.conv2d(average_pool,filter_1_2,strides=[1,1,1,1], padding='SAME')\n",
    "    \n",
    "    # Concatenating layers\n",
    "    bias=tf.Variable(tf.truncated_normal([color_channels+3*kernel_output], mu, sigma))\n",
    "    x=tf.concat([block_conv1,block_conv3,block_conv5,block_avgpool],axis=3)\n",
    "    x=tf.nn.bias_add(x,bias)\n",
    "    \n",
    "    return tf.nn.relu(x)"
   ]
  },
  {
   "cell_type": "code",
   "execution_count": null,
   "metadata": {
    "collapsed": true
   },
   "outputs": [],
   "source": [
    "def inception_module_sequence1(layer,input_fmap,output_fmap):\n",
    "    mu=0\n",
    "    sigma=0.1\n",
    "    \n",
    "#     def convolution(layer,weight,bias):\n",
    "        # W- Weight [Filter height, Filter width, color_channels, k_output]\n",
    "#         temp=tf.nn.conv2d(layer,weight,strides=[1,1,1,1],padding='SAME')\n",
    "#         return tf.nn.bias_add(temp,bias)\n",
    "    \n",
    "#     def maxpool_3x3(layer):\n",
    "#         return tf.nn.max_pool(layer,ksize=[1,3,3,1],strides=[1,1,1,1],padding='SAME')\n",
    "    \n",
    "#     def relu(layer):\n",
    "#         return tf.nn.relu(layer)\n",
    "        \n",
    "    # Weights,Biases\n",
    "    # Three 1*1 Convolution Layers- Block One\n",
    "    b1_conv_weight_1x1_1=tf.Variable(tf.truncated_normal([1,1,input_fmap,output_fmap],mu,sigma))\n",
    "    b1_conv_bias_1x1_1=tf.Variable(tf.zeros([output_fmap]))\n",
    "    \n",
    "    b1_conv_weight_1x1_2=tf.Variable(tf.truncated_normal([1,1,input_fmap,0.5*output_fmap],mu,sigma))\n",
    "    b1_conv_bias_1x1_2=tf.Variable(tf.zeros([0.5*output_fmap]))\n",
    "    \n",
    "    b1_conv_weight_1x1_3=tf.Variable(tf.truncated_normal([1,1,input_fmap,0.5*output_fmap],mu,sigma))\n",
    "    b1_conv_bias_1x1_3=tf.Variable(tf.zeros([0.5*output_fmap]))\n",
    "    \n",
    "    # 3*3  Convolution Layer that follows b_1_conv_2- Block Two\n",
    "    b2_conv_weight_3x3=tf.Variable(tf.truncated_normal([3,3,0.5*output_fmap,output_fmap],mu,sigma))\n",
    "    c=tf.Variable(tf.zeros([output_fmap]))\n",
    "    \n",
    "    # 5*5 Convolution Layer that follows b1_conv_3- Block Two\n",
    "    b2_conv_weight_5x5=tf.Variable(tf.truncated_normal([5,5,0.5*output_fmap,output_fmap],mu,sigma))\n",
    "    b2_conv_bias_5x5=tf.Variable(tf.zeros([output_fmap]))\n",
    "    \n",
    "    # 1*1 Convolution Layer that follows a 3*3 maxpool layer- Block Two\n",
    "    b2_conv_weight_1x1=tf.Variable(tf.truncated_normal([1,1,1,output_fmap],mu,sigma))\n",
    "    b2_conv_bias_1x1=tf.Variable(tf.zeros([output_fmap]))\n",
    "    \n",
    "    \n",
    "    # Fitting blocks\n",
    "    # Parallel sub-modules in Block One\n",
    "    b1_conv1_1x1=convolution(layer,b1_conv_weight_1x1_1,b1_conv_bias_1x1_1)\n",
    "    b1_conv2_1x1=relu(convolution(layer,b1_conv_weight_1x1_2,b1_conv_bias_1x1_2))\n",
    "    b1_conv3_1x1=relu(convolution(layer,b1_conv_weight_1x1_3,b1_conv_bias_1x1_2))\n",
    "    b1_maxpool_3x3=maxpool_3x3(layer)\n",
    "    \n",
    "    # Parallel sub-modules in Block Two\n",
    "    # 3*3 convolution connected to the second 1*1 convolution in Block One\n",
    "    b2_conv1_3x3=convolution(b1_conv2_1x1,b2_conv_weight_3x3,b2_conv_weight_3x3)\n",
    "    # 5*5 convolution connected to the third 1*1 convolution in Block One\n",
    "    b2_conv1_5x5=convolution(b1_conv3_1x1,b2_conv_weight_5x5,b2_conv_bias_5x5)\n",
    "    # 1*1 convolution connected to the max pool layer in Block One\n",
    "    b2_conv1_1x1=convolution(b1_maxpool_3x3,b2_conv_weight_1x1,b2_conv_bias_1x1)\n",
    "    \n",
    "    # Concatenating modules b1_conv1_1x1 in Block One and all the modules in Block Two\n",
    "    b3_concat=tf.concat([b1_conv1_1x1,b2_conv1_3x3,b2_conv1_3x3,b3_conv1_5x5,b2_conv1_1x1],3)\n",
    "    \n",
    "    inception=relu(b3_concat)\n",
    "    \n",
    "    return inception"
   ]
  },
  {
   "cell_type": "code",
   "execution_count": null,
   "metadata": {
    "collapsed": true
   },
   "outputs": [],
   "source": [
    "def Barebones_inception(x):\n",
    "    weights={\n",
    "        'w_conv_2x2_1': tf.Variable(tf.truncated_normal(shape=[2,2,1,6], mean=mu, stddev=sigma)),\n",
    "        'w_conv_2x2_2': tf.Variable(tf.truncated_normal(shape=[5,5,6,16], mean=mu, stddev=sigma)),\n",
    "        'w_conv_1x1_1': tf.Variable(tf.truncated_normal(shape=[1,1,16,32], mean=mu, stddev=sigma)),\n",
    "        \n",
    "        'w_dense1': tf.Variable(tf.truncated_normal(shape=[100352,120], mean=mu, stddev=sigma)),\n",
    "        'w_dense2': tf.Variable(tf.truncated_normal(shape=[120,84], mean=mu, stddev=sigma)),\n",
    "        'w_output': tf.Variable(tf.truncated_normal(shape=[84,43], mean=mu, stddev=sigma))\n",
    "    }\n",
    "    \n",
    "    biases={\n",
    "        'b_conv_2x2_1': tf.Variable(tf.truncated_normal([6])),\n",
    "        'b_conv_2x2_2': tf.Variable(tf.truncated_normal([16])),\n",
    "        'b_conv_1x1_1': tf.Variable(tf.truncated_normal([32])),\n",
    "        \n",
    "        'b_dense1': tf.Variable(tf.truncated_normal([120])),\n",
    "        'b_dense2': tf.Variable(tf.truncated_normal([84])),\n",
    "        'b_output': tf.Variable(tf.truncated_normal([43]))\n",
    "    }\n",
    "    \n",
    "    keep_prob=tf.Variable(tf.float32)\n",
    "\n",
    "    # Stem\n",
    "    conv1_1=relu(convolution(layer,weights['w_conv_2x2_1'],biases['b_conv_2x2_1']))\n",
    "    pool1_1=maxpool_3x3(conv1_1)\n",
    "    conv1_2=relu(convolution(pool1_1,weights['w_conv_2x2_2'],biases['b_conv2_2x2_2']))\n",
    "    conv1_3=relu(convolution(conv1_2,weights['w_conv_1x1_1'],biases['b_conv_1x1_1']))\n",
    "    pool1_2=maxpool_3x3(conv1_3)\n",
    "    \n",
    "    # Body\n",
    "    inception_s1=inception_module_sequence1(pool1_2,32,64)\n",
    "    inception_s2=inception_module_sequence1(inception_s1,256,32)\n",
    "    \n",
    "    # Root\n",
    "    barebones_flat=flatten(inception_s2)\n",
    "    dense3_1=relu(full_connected(barebones_flat,weights['w_dense1'],biases['b_dense1']))\n",
    "    dense3_1_dropout=dropout(dense3_1,keep_prob)\n",
    "    dense3_2=relu(full_connected(dense3_1_dropout,weights['w_dense2'],biases['b_dense2']))\n",
    "    dense3_2_dropout=dropout(dense3_2,keep_prob)\n",
    "    \n",
    "    logits=full_connected(dense3_2_dropout,weights['w_output'],biases['b_output'])\n",
    "    \n",
    "    return logits  "
   ]
  },
  {
   "cell_type": "markdown",
   "metadata": {},
   "source": [
    "#### Train, Validate and Test the Model: Barebones inception architecture"
   ]
  },
  {
   "cell_type": "code",
   "execution_count": null,
   "metadata": {
    "collapsed": true
   },
   "outputs": [],
   "source": [
    "logits_bareinception=Barebones_inception(X)\n",
    "cross_entropy=tf.nn.softmax_cross_entropy_with_logits(labels=one_hot_y,logits=logits_bareinception)\n",
    "loss_operation=tf.reduce_mean(cross_entropy)\n",
    "\n",
    "# global_variable=tf.Variable(0)\n",
    "# learning_rate=\n",
    "optimizer=tf.train.AdamOptimizer(learning_rate=learning_rate)\n",
    "training_operation=optimizer.minimize(loss_operation)"
   ]
  },
  {
   "cell_type": "code",
   "execution_count": null,
   "metadata": {
    "collapsed": true
   },
   "outputs": [],
   "source": [
    "correct_prediction=tf.equal(tf.argmax(logits_VGG16,1),tf.argmax(one_hot_y,1))\n",
    "accuracy_operation=tf.reduce_mean(tf.cast(correct_prediction,tf.float32))\n",
    "saver=tf.train.Saver()"
   ]
  },
  {
   "cell_type": "code",
   "execution_count": null,
   "metadata": {
    "collapsed": true
   },
   "outputs": [],
   "source": [
    "init=tf.global_variables_initializer()\n",
    "with tf.Session() as sess:\n",
    "    sess.run(init)\n",
    "    data_size=len(X_train_shuffle)\n",
    "    \n",
    "    print(\"Simplified Inception model Training in progress...\")\n",
    "    print()\n",
    "    \n",
    "    for i in range(EPOCHS):\n",
    "        X_train_shuffle,y_train_shuffle=shuffle(X_train_shuffle,y_train_shuffle)\n",
    "        \n",
    "        for offset in range(0,data_size,BATCH_SIZE):\n",
    "            end=offset+BATCH_SIZE\n",
    "            batch_x,batch_y=X_train_shuffle[offset:end],y_train_shuffle[offset:end]\n",
    "            sess.run(training_operation, feed_dict={X:batch_x, Y:batch_y, keep_prob:0.50})\n",
    "        \n",
    "        validation_accuracy=evaluate(X_valid_shuffle,y_valid_shuffle)\n",
    "        print(\"EPOCH {}...\".format(i+1))\n",
    "        print(\"Validation Accuracy of {:.5f}\".format(validation_accuracy))\n",
    "        print()\n",
    "        \n",
    "    saver.save(sess,'./bbinception_init')\n",
    "    print(\"Barebones-Inception model saved.\")"
   ]
  },
  {
   "cell_type": "markdown",
   "metadata": {},
   "source": [
    "---\n",
    "\n",
    "## Step 4: Test a Model on New Images\n",
    "\n",
    "To give yourself more insight into how your model is working, download at least five pictures of German traffic signs from the web and use your model to predict the traffic sign type.\n",
    "\n",
    "You may find `signnames.csv` useful as it contains mappings from the class id (integer) to the actual sign name."
   ]
  },
  {
   "cell_type": "markdown",
   "metadata": {},
   "source": [
    "### Load and Output the Images"
   ]
  },
  {
   "cell_type": "code",
   "execution_count": null,
   "metadata": {
    "collapsed": true
   },
   "outputs": [],
   "source": [
    "### Load the images and plot them here.\n",
    "### Feel free to use as many code cells as needed.\n",
    "print(\"Testing the CNN-model on new images obtained from the Belgian dataset.\")\n",
    "verification_folder='Belgian-traffic-signs-data/' \n",
    "\n",
    "folder_sample=random.sample(os.listdir(verification_folder),5)\n",
    "images_path=[]\n",
    "for folder in folder_sample:\n",
    "    \n",
    "    path=os.path.join(verification_folder,folder)\n",
    "    items=os.listdir(path)\n",
    "    valid_choice=[]\n",
    "    image_array=[]\n",
    "    \n",
    "    for name in items:\n",
    "        if name.endswith(\".ppm\"):\n",
    "            valid_choice.append(name)\n",
    "    image_sample=random.sample(valid_choice,3)\n",
    "    \n",
    "    for i in image_sample:\n",
    "        image_path=os.path.join(path,i)\n",
    "        images_path.append(image_path)\n",
    "        \n",
    "# Splitting functions for readability\n",
    "images_list=np.zeros((15,32,32,3),dtype=np.uint8)\n",
    "for i,image_index in enumerate(images_path):\n",
    "    image=cv2.imread(image_index)\n",
    "    images_list[i]=resize(image,(32,32))\n",
    "\n",
    "# Plot, Subplots\n",
    "plt.figure(figsize=(12,10))\n",
    "for num_images in range(15):\n",
    "    plt.subplot(5,3,num_images+1)\n",
    "    plt.tight_layout()\n",
    "    plt.imshow(images_list[num_images])\n",
    "    plt.axis('off')\n",
    "plt.show()      "
   ]
  },
  {
   "cell_type": "markdown",
   "metadata": {},
   "source": [
    "### Predict the Sign Type for Each Image"
   ]
  },
  {
   "cell_type": "code",
   "execution_count": null,
   "metadata": {
    "collapsed": true
   },
   "outputs": [],
   "source": [
    "### Run the predictions here and use the model to output the prediction for each image.\n",
    "### Make sure to pre-process the images with the same pre-processing pipeline used earlier.\n",
    "### Feel free to use as many code cells as needed.\n",
    "\n",
    "with tf.Session() as sess:\n",
    "    sess.run(tf.global_variables_initializer())"
   ]
  },
  {
   "cell_type": "markdown",
   "metadata": {},
   "source": [
    "### Analyze Performance"
   ]
  },
  {
   "cell_type": "code",
   "execution_count": null,
   "metadata": {
    "collapsed": true
   },
   "outputs": [],
   "source": [
    "### Calculate the accuracy for these 5 new images. \n",
    "### For example, if the model predicted 1 out of 5 signs correctly, it's 20% accurate on these new images."
   ]
  },
  {
   "cell_type": "markdown",
   "metadata": {},
   "source": [
    "### Output Top 5 Softmax Probabilities For Each Image Found on the Web"
   ]
  },
  {
   "cell_type": "markdown",
   "metadata": {},
   "source": [
    "For each of the new images, print out the model's softmax probabilities to show the **certainty** of the model's predictions (limit the output to the top 5 probabilities for each image). [`tf.nn.top_k`](https://www.tensorflow.org/versions/r0.12/api_docs/python/nn.html#top_k) could prove helpful here. \n",
    "\n",
    "The example below demonstrates how tf.nn.top_k can be used to find the top k predictions for each image.\n",
    "\n",
    "`tf.nn.top_k` will return the values and indices (class ids) of the top k predictions. So if k=3, for each sign, it'll return the 3 largest probabilities (out of a possible 43) and the correspoding class ids.\n",
    "\n",
    "Take this numpy array as an example. The values in the array represent predictions. The array contains softmax probabilities for five candidate images with six possible classes. `tk.nn.top_k` is used to choose the three classes with the highest probability:\n",
    "\n",
    "```\n",
    "# (5, 6) array\n",
    "a = np.array([[ 0.24879643,  0.07032244,  0.12641572,  0.34763842,  0.07893497,\n",
    "         0.12789202],\n",
    "       [ 0.28086119,  0.27569815,  0.08594638,  0.0178669 ,  0.18063401,\n",
    "         0.15899337],\n",
    "       [ 0.26076848,  0.23664738,  0.08020603,  0.07001922,  0.1134371 ,\n",
    "         0.23892179],\n",
    "       [ 0.11943333,  0.29198961,  0.02605103,  0.26234032,  0.1351348 ,\n",
    "         0.16505091],\n",
    "       [ 0.09561176,  0.34396535,  0.0643941 ,  0.16240774,  0.24206137,\n",
    "         0.09155967]])\n",
    "```\n",
    "\n",
    "Running it through `sess.run(tf.nn.top_k(tf.constant(a), k=3))` produces:\n",
    "\n",
    "```\n",
    "TopKV2(values=array([[ 0.34763842,  0.24879643,  0.12789202],\n",
    "       [ 0.28086119,  0.27569815,  0.18063401],\n",
    "       [ 0.26076848,  0.23892179,  0.23664738],\n",
    "       [ 0.29198961,  0.26234032,  0.16505091],\n",
    "       [ 0.34396535,  0.24206137,  0.16240774]]), indices=array([[3, 0, 5],\n",
    "       [0, 1, 4],\n",
    "       [0, 5, 1],\n",
    "       [1, 3, 5],\n",
    "       [1, 4, 3]], dtype=int32))\n",
    "```\n",
    "\n",
    "Looking just at the first row we get `[ 0.34763842,  0.24879643,  0.12789202]`, you can confirm these are the 3 largest probabilities in `a`. You'll also notice `[3, 0, 5]` are the corresponding indices."
   ]
  },
  {
   "cell_type": "code",
   "execution_count": null,
   "metadata": {
    "collapsed": true
   },
   "outputs": [],
   "source": [
    "### Print out the top five softmax probabilities for the predictions on the German traffic sign images found on the web. \n",
    "### Feel free to use as many code cells as needed."
   ]
  },
  {
   "cell_type": "markdown",
   "metadata": {},
   "source": [
    "### Project Writeup\n",
    "\n",
    "Once you have completed the code implementation, document your results in a project writeup using this [template](https://github.com/udacity/CarND-Traffic-Sign-Classifier-Project/blob/master/writeup_template.md) as a guide. The writeup can be in a markdown or pdf file. "
   ]
  },
  {
   "cell_type": "markdown",
   "metadata": {},
   "source": [
    "> **Note**: Once you have completed all of the code implementations and successfully answered each question above, you may finalize your work by exporting the iPython Notebook as an HTML document. You can do this by using the menu above and navigating to  \\n\",\n",
    "    \"**File -> Download as -> HTML (.html)**. Include the finished document along with this notebook as your submission."
   ]
  },
  {
   "cell_type": "markdown",
   "metadata": {},
   "source": [
    "---\n",
    "\n",
    "## Step 5 (Optional): Visualize the Neural Network's State with Test Images\n",
    "\n",
    " This Section is not required to complete but acts as an additional excersise for understaning the output of a neural network's weights. While neural networks can be a great learning device they are often referred to as a black box. We can understand what the weights of a neural network look like better by plotting their feature maps. After successfully training your neural network you can see what it's feature maps look like by plotting the output of the network's weight layers in response to a test stimuli image. From these plotted feature maps, it's possible to see what characteristics of an image the network finds interesting. For a sign, maybe the inner network feature maps react with high activation to the sign's boundary outline or to the contrast in the sign's painted symbol.\n",
    "\n",
    " Provided for you below is the function code that allows you to get the visualization output of any tensorflow weight layer you want. The inputs to the function should be a stimuli image, one used during training or a new one you provided, and then the tensorflow variable name that represents the layer's state during the training process, for instance if you wanted to see what the [LeNet lab's](https://classroom.udacity.com/nanodegrees/nd013/parts/fbf77062-5703-404e-b60c-95b78b2f3f9e/modules/6df7ae49-c61c-4bb2-a23e-6527e69209ec/lessons/601ae704-1035-4287-8b11-e2c2716217ad/concepts/d4aca031-508f-4e0b-b493-e7b706120f81) feature maps looked like for it's second convolutional layer you could enter conv2 as the tf_activation variable.\n",
    "\n",
    "For an example of what feature map outputs look like, check out NVIDIA's results in their paper [End-to-End Deep Learning for Self-Driving Cars](https://devblogs.nvidia.com/parallelforall/deep-learning-self-driving-cars/) in the section Visualization of internal CNN State. NVIDIA was able to show that their network's inner weights had high activations to road boundary lines by comparing feature maps from an image with a clear path to one without. Try experimenting with a similar test to show that your trained network's weights are looking for interesting features, whether it's looking at differences in feature maps from images with or without a sign, or even what feature maps look like in a trained network vs a completely untrained one on the same sign image.\n",
    "\n",
    "<figure>\n",
    " <img src=\"visualize_cnn.png\" width=\"380\" alt=\"Combined Image\" />\n",
    " <figcaption>\n",
    " <p></p> \n",
    " <p style=\"text-align: center;\"> Your output should look something like this (above)</p> \n",
    " </figcaption>\n",
    "</figure>\n",
    " <p></p> \n"
   ]
  },
  {
   "cell_type": "code",
   "execution_count": null,
   "metadata": {
    "collapsed": true
   },
   "outputs": [],
   "source": [
    "### Visualize your network's feature maps here.\n",
    "### Feel free to use as many code cells as needed.\n",
    "\n",
    "# image_input: the test image being fed into the network to produce the feature maps\n",
    "# tf_activation: should be a tf variable name used during your training procedure that represents the calculated state of a specific weight layer\n",
    "# activation_min/max: can be used to view the activation contrast in more detail, by default matplot sets min and max to the actual min and max values of the output\n",
    "# plt_num: used to plot out multiple different weight feature map sets on the same block, just extend the plt number for each new feature map entry\n",
    "\n",
    "def outputFeatureMap(image_input, tf_activation, activation_min=-1, activation_max=-1 ,plt_num=1):\n",
    "    # Here make sure to preprocess your image_input in a way your network expects\n",
    "    # with size, normalization, ect if needed\n",
    "    # image_input =\n",
    "    # Note: x should be the same name as your network's tensorflow data placeholder variable\n",
    "    # If you get an error tf_activation is not defined it may be having trouble accessing the variable from inside a function\n",
    "    activation = tf_activation.eval(session=sess,feed_dict={x : image_input})\n",
    "    featuremaps = activation.shape[3]\n",
    "    plt.figure(plt_num, figsize=(15,15))\n",
    "    for featuremap in range(featuremaps):\n",
    "        plt.subplot(6,8, featuremap+1) # sets the number of feature maps to show on each row and column\n",
    "        plt.title('FeatureMap ' + str(featuremap)) # displays the feature map number\n",
    "        if activation_min != -1 & activation_max != -1:\n",
    "            plt.imshow(activation[0,:,:, featuremap], interpolation=\"nearest\", vmin =activation_min, vmax=activation_max, cmap=\"gray\")\n",
    "        elif activation_max != -1:\n",
    "            plt.imshow(activation[0,:,:, featuremap], interpolation=\"nearest\", vmax=activation_max, cmap=\"gray\")\n",
    "        elif activation_min !=-1:\n",
    "            plt.imshow(activation[0,:,:, featuremap], interpolation=\"nearest\", vmin=activation_min, cmap=\"gray\")\n",
    "        else:\n",
    "            plt.imshow(activation[0,:,:, featuremap], interpolation=\"nearest\", cmap=\"gray\")"
   ]
  },
  {
   "cell_type": "code",
   "execution_count": null,
   "metadata": {
    "collapsed": true
   },
   "outputs": [],
   "source": [
    "sess.close()"
   ]
  },
  {
   "cell_type": "code",
   "execution_count": null,
   "metadata": {
    "collapsed": true
   },
   "outputs": [],
   "source": [
    "print(\"Script terminated at\",str(datetime.now()))"
   ]
  }
 ],
 "metadata": {
  "anaconda-cloud": {},
  "kernelspec": {
   "display_name": "Python 3",
   "language": "python",
   "name": "python3"
  },
  "language_info": {
   "codemirror_mode": {
    "name": "ipython",
    "version": 3
   },
   "file_extension": ".py",
   "mimetype": "text/x-python",
   "name": "python",
   "nbconvert_exporter": "python",
   "pygments_lexer": "ipython3",
   "version": "3.5.2"
  },
  "widgets": {
   "state": {},
   "version": "1.1.2"
  }
 },
 "nbformat": 4,
 "nbformat_minor": 1
}
